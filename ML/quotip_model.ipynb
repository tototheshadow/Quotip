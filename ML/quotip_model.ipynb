{
  "cells": [
    {
      "cell_type": "code",
      "execution_count": 27,
      "metadata": {
        "id": "Tv9oQGLcUQ78"
      },
      "outputs": [],
      "source": [
        "from tensorflow.keras.preprocessing.text import Tokenizer\n",
        "from tensorflow.keras.preprocessing.sequence import pad_sequences\n",
        "from tensorflow.keras.models import Sequential\n",
        "from tensorflow.keras.layers import Embedding, LSTM, Dense, Bidirectional, GlobalAveragePooling1D, Flatten\n",
        "import tensorflow as tf\n",
        "import numpy as np\n",
        "import pandas as pd\n",
        "import pickle\n",
        "from sklearn.preprocessing import LabelBinarizer"
      ]
    },
    {
      "cell_type": "code",
      "execution_count": 28,
      "metadata": {
        "id": "ZiUDJ9twT_Pe"
      },
      "outputs": [],
      "source": [
        "# path = '/content/drive/MyDrive/Capstone/'\n",
        "path = '.'"
      ]
    },
    {
      "cell_type": "code",
      "execution_count": 29,
      "metadata": {
        "id": "6V5z1HiYUTRs"
      },
      "outputs": [],
      "source": [
        "train_sentences = []\n",
        "train_labels = []\n",
        "with open(f\"{path}/dataset/train.txt\") as f:\n",
        "    for items in f:\n",
        "        item = items.split(\";\")\n",
        "        train_sentences.append(item[0])\n",
        "        train_labels.append(item[1].rstrip())\n",
        "\n",
        "test_sentences = []\n",
        "test_labels = []\n",
        "with open(f\"{path}/dataset/test.txt\") as f:\n",
        "    for items in f:\n",
        "        item = items.split(\";\")\n",
        "        test_sentences.append(item[0])\n",
        "        test_labels.append(item[1].rstrip())\n",
        "\n",
        "val_sentences = []\n",
        "val_labels = []\n",
        "with open(f\"{path}/dataset/val.txt\") as f:\n",
        "    for items in f:\n",
        "        item = items.split(\";\")\n",
        "        val_sentences.append(item[0])\n",
        "        val_labels.append(item[1].rstrip())"
      ]
    },
    {
      "cell_type": "code",
      "execution_count": 30,
      "metadata": {},
      "outputs": [],
      "source": [
        "encoder = LabelBinarizer()\n",
        "train_labels_encode = encoder.fit_transform(train_labels)\n",
        "test_labels_encode = encoder.fit_transform(test_labels)\n",
        "val_labels_encode = encoder.fit_transform(val_labels)"
      ]
    },
    {
      "cell_type": "code",
      "execution_count": 33,
      "metadata": {},
      "outputs": [
        {
          "data": {
            "text/plain": [
              "array([1, 0, 0, 0, 0, 0])"
            ]
          },
          "execution_count": 33,
          "metadata": {},
          "output_type": "execute_result"
        }
      ],
      "source": [
        "train_labels_encode[33]"
      ]
    },
    {
      "cell_type": "code",
      "execution_count": 5,
      "metadata": {
        "colab": {
          "base_uri": "https://localhost:8080/"
        },
        "id": "Z8Y8zyEfUj7-",
        "outputId": "91bdff01-e98f-4fec-db03-e4ccc2d1cc75"
      },
      "outputs": [
        {
          "name": "stdout",
          "output_type": "stream",
          "text": [
            "{'fear', 'love', 'sadness', 'anger', 'joy', 'surprise'}\n"
          ]
        }
      ],
      "source": [
        "print(set(train_labels))"
      ]
    },
    {
      "cell_type": "code",
      "execution_count": 6,
      "metadata": {
        "id": "7Ro0vrGoUmyC"
      },
      "outputs": [],
      "source": [
        "trunc_type='post'\n",
        "padding_type='post'\n",
        "oov_tok = \"<OOV>\"\n",
        "training_size = 20000\n",
        "vocab_size = 5000\n",
        "max_length = 32\n",
        "embedding_dim = 64\n",
        "\n",
        "tokenizer = Tokenizer(num_words=vocab_size, oov_token=oov_tok)\n",
        "tokenizer.fit_on_texts(train_sentences)\n",
        "word_index = tokenizer.word_index\n",
        "\n",
        "\n",
        "train_seq = tokenizer.texts_to_sequences(train_sentences)\n",
        "\n",
        "train_padded = pad_sequences(train_seq, maxlen=max_length, padding=padding_type, truncating=trunc_type)"
      ]
    },
    {
      "cell_type": "code",
      "execution_count": 8,
      "metadata": {
        "id": "WGqyeUxGUolj"
      },
      "outputs": [],
      "source": [
        "val_seq = tokenizer.texts_to_sequences(val_sentences)\n",
        "val_padded = pad_sequences(val_seq, maxlen=max_length, padding=padding_type, truncating=trunc_type)\n",
        "val_padded = np.array(val_padded)"
      ]
    },
    {
      "cell_type": "code",
      "execution_count": 9,
      "metadata": {
        "id": "E_7atiQOUseB"
      },
      "outputs": [],
      "source": [
        "test_seq = tokenizer.texts_to_sequences(test_sentences)\n",
        "test_padded = pad_sequences(test_seq, maxlen=max_length, padding=padding_type, truncating=trunc_type)\n",
        "test_padded = np.array(test_padded)"
      ]
    },
    {
      "cell_type": "code",
      "execution_count": 10,
      "metadata": {
        "id": "TJfCwuaZU-Re"
      },
      "outputs": [],
      "source": [
        "labels = list(train_labels)\n",
        "label_tokenizer = Tokenizer()\n",
        "label_tokenizer.fit_on_texts(labels)\n",
        "\n",
        "train_label_seq = np.array(label_tokenizer.texts_to_sequences(train_labels))\n",
        "val_label_seq = np.array(label_tokenizer.texts_to_sequences(val_labels))\n",
        "test_label_seq = np.array(label_tokenizer.texts_to_sequences(test_labels))"
      ]
    },
    {
      "cell_type": "code",
      "execution_count": 11,
      "metadata": {
        "colab": {
          "base_uri": "https://localhost:8080/"
        },
        "id": "djjKsSxYVKn9",
        "outputId": "3e12f79e-56e0-46f2-f397-07f12d797139"
      },
      "outputs": [
        {
          "name": "stdout",
          "output_type": "stream",
          "text": [
            "Model: \"sequential\"\n",
            "_________________________________________________________________\n",
            " Layer (type)                Output Shape              Param #   \n",
            "=================================================================\n",
            " embedding (Embedding)       (None, None, 64)          320000    \n",
            "                                                                 \n",
            " bidirectional (Bidirectiona  (None, 128)              66048     \n",
            " l)                                                              \n",
            "                                                                 \n",
            " dense (Dense)               (None, 64)                8256      \n",
            "                                                                 \n",
            " dense_1 (Dense)             (None, 7)                 455       \n",
            "                                                                 \n",
            "=================================================================\n",
            "Total params: 394,759\n",
            "Trainable params: 394,759\n",
            "Non-trainable params: 0\n",
            "_________________________________________________________________\n"
          ]
        }
      ],
      "source": [
        "model = tf.keras.Sequential([\n",
        "    tf.keras.layers.Embedding(input_dim=vocab_size, output_dim=embedding_dim),\n",
        "    tf.keras.layers.Bidirectional(tf.keras.layers.LSTM(embedding_dim)),\n",
        "    # tf.keras.layers.Dropout(.5),\n",
        "    tf.keras.layers.Dense(64, activation='relu'),\n",
        "    tf.keras.layers.Dense(7, activation='softmax')\n",
        "])\n",
        "model.summary()"
      ]
    },
    {
      "cell_type": "code",
      "execution_count": 12,
      "metadata": {
        "id": "GnX05yojVOPE"
      },
      "outputs": [],
      "source": [
        "onehot_train_label = np.squeeze(tf.one_hot(train_label_seq,7).numpy())\n",
        "onehot_val_label = np.squeeze(tf.one_hot(val_label_seq,7).numpy())\n",
        "onehot_test_label = np.squeeze(tf.one_hot(test_label_seq,7).numpy())"
      ]
    },
    {
      "cell_type": "code",
      "execution_count": 13,
      "metadata": {
        "colab": {
          "base_uri": "https://localhost:8080/"
        },
        "id": "zj8sAraNRMk-",
        "outputId": "8c9d709c-2b56-4353-aa76-32520d4c92cb"
      },
      "outputs": [
        {
          "data": {
            "text/plain": [
              "array([0., 0., 0., 0., 0., 1., 0.], dtype=float32)"
            ]
          },
          "execution_count": 13,
          "metadata": {},
          "output_type": "execute_result"
        }
      ],
      "source": [
        "onehot_test_label[14]"
      ]
    },
    {
      "cell_type": "code",
      "execution_count": 14,
      "metadata": {
        "id": "l2-YfhcyVQZJ"
      },
      "outputs": [],
      "source": [
        "model.compile(optimizer = 'Adam',loss = 'categorical_crossentropy',metrics = ['accuracy'])"
      ]
    },
    {
      "cell_type": "code",
      "execution_count": 15,
      "metadata": {
        "colab": {
          "base_uri": "https://localhost:8080/"
        },
        "id": "Ph2OG-MoVSEt",
        "outputId": "fa3b2e9c-e213-4f96-b507-ff6559cb59fd"
      },
      "outputs": [
        {
          "name": "stdout",
          "output_type": "stream",
          "text": [
            "Epoch 1/10\n",
            "500/500 [==============================] - 27s 39ms/step - loss: 1.1759 - accuracy: 0.5419 - val_loss: 0.6032 - val_accuracy: 0.7970\n",
            "Epoch 2/10\n",
            "500/500 [==============================] - 17s 35ms/step - loss: 0.3298 - accuracy: 0.8857 - val_loss: 0.2829 - val_accuracy: 0.8930\n",
            "Epoch 3/10\n",
            "500/500 [==============================] - 17s 33ms/step - loss: 0.1652 - accuracy: 0.9373 - val_loss: 0.2691 - val_accuracy: 0.9025\n",
            "Epoch 4/10\n",
            "500/500 [==============================] - 17s 34ms/step - loss: 0.1240 - accuracy: 0.9539 - val_loss: 0.3154 - val_accuracy: 0.9000\n",
            "Epoch 5/10\n",
            "500/500 [==============================] - 16s 31ms/step - loss: 0.0947 - accuracy: 0.9629 - val_loss: 0.3795 - val_accuracy: 0.8960\n",
            "Epoch 6/10\n",
            "500/500 [==============================] - 15s 31ms/step - loss: 0.0805 - accuracy: 0.9709 - val_loss: 0.3634 - val_accuracy: 0.8960\n",
            "Epoch 7/10\n",
            "500/500 [==============================] - 15s 30ms/step - loss: 0.0721 - accuracy: 0.9724 - val_loss: 0.3758 - val_accuracy: 0.8975\n",
            "Epoch 8/10\n",
            "500/500 [==============================] - 15s 30ms/step - loss: 0.0528 - accuracy: 0.9797 - val_loss: 0.4095 - val_accuracy: 0.8970\n",
            "Epoch 9/10\n",
            "500/500 [==============================] - 15s 30ms/step - loss: 0.0466 - accuracy: 0.9821 - val_loss: 0.4190 - val_accuracy: 0.8925\n",
            "Epoch 10/10\n",
            "500/500 [==============================] - 15s 31ms/step - loss: 0.0411 - accuracy: 0.9851 - val_loss: 0.4514 - val_accuracy: 0.8975\n"
          ]
        }
      ],
      "source": [
        "num_epochs = 10\n",
        "\n",
        "history = model.fit(train_padded, onehot_train_label, epochs=num_epochs, validation_data=(val_padded, onehot_val_label), verbose=1)"
      ]
    },
    {
      "cell_type": "code",
      "execution_count": 16,
      "metadata": {
        "id": "DtaP3IV_XXOq"
      },
      "outputs": [],
      "source": [
        "def evaluate_preds(y_true, y_preds):\n",
        "    \"\"\"\n",
        "    Performs evaluation comparison on y_true labels vs. y_pred labels\n",
        "    on a classification.\n",
        "    \"\"\"\n",
        "    accuracy = accuracy_score(y_true, y_preds)\n",
        "    precision = precision_score(y_true, y_preds, average='micro')\n",
        "    recall = recall_score(y_true, y_preds, average='micro')\n",
        "    f1 = f1_score(y_true, y_preds, average='micro')\n",
        "    metric_dict = {\"accuracy\": round(accuracy, 2),\n",
        "                   \"precision\": round(precision, 2),\n",
        "                   \"recall\": round(recall, 2),\n",
        "                   \"f1\": round(f1, 2)}\n",
        "    print(f\"Acc: {accuracy * 100:.2f}%\")\n",
        "    print(f\"Precision: {precision:.2f}\")\n",
        "    print(f\"Recall: {recall:.2f}\")\n",
        "    print(f\"F1 score: {f1:.2f}\")\n",
        "    \n",
        "    return metric_dict"
      ]
    },
    {
      "cell_type": "code",
      "execution_count": 17,
      "metadata": {
        "colab": {
          "base_uri": "https://localhost:8080/"
        },
        "id": "ATzlVYuHYM5Y",
        "outputId": "7682889b-e9ab-4d4c-a785-2c3a6af48aa8"
      },
      "outputs": [
        {
          "name": "stdout",
          "output_type": "stream",
          "text": [
            "Acc: 88.80%\n",
            "Precision: 0.89\n",
            "Recall: 0.89\n",
            "F1 score: 0.89\n"
          ]
        },
        {
          "data": {
            "text/plain": [
              "{'accuracy': 0.89, 'precision': 0.89, 'recall': 0.89, 'f1': 0.89}"
            ]
          },
          "execution_count": 17,
          "metadata": {},
          "output_type": "execute_result"
        }
      ],
      "source": [
        "# Now we make predictions using the test data to see how the model performs\n",
        "from sklearn.metrics import accuracy_score, precision_score, recall_score, f1_score, confusion_matrix, classification_report\n",
        "predicted = model.predict(test_padded)\n",
        "evaluate_preds(np.argmax(onehot_test_label, axis=1), np.argmax(predicted, axis=1))"
      ]
    },
    {
      "cell_type": "code",
      "execution_count": 35,
      "metadata": {},
      "outputs": [
        {
          "name": "stderr",
          "output_type": "stream",
          "text": [
            "WARNING:absl:Found untraced functions such as lstm_cell_1_layer_call_fn, lstm_cell_1_layer_call_and_return_conditional_losses, lstm_cell_2_layer_call_fn, lstm_cell_2_layer_call_and_return_conditional_losses, lstm_cell_1_layer_call_fn while saving (showing 5 of 10). These functions will not be directly callable after loading.\n"
          ]
        },
        {
          "name": "stdout",
          "output_type": "stream",
          "text": [
            "INFO:tensorflow:Assets written to: model_final.model\\assets\n"
          ]
        },
        {
          "name": "stderr",
          "output_type": "stream",
          "text": [
            "INFO:tensorflow:Assets written to: model_final.model\\assets\n",
            "WARNING:absl:<keras.layers.recurrent.LSTMCell object at 0x0000029B8B3AEA30> has the same name 'LSTMCell' as a built-in Keras object. Consider renaming <class 'keras.layers.recurrent.LSTMCell'> to avoid naming conflicts when loading with `tf.keras.models.load_model`. If renaming is not possible, pass the object in the `custom_objects` parameter of the load function.\n",
            "WARNING:absl:<keras.layers.recurrent.LSTMCell object at 0x0000029B8B332400> has the same name 'LSTMCell' as a built-in Keras object. Consider renaming <class 'keras.layers.recurrent.LSTMCell'> to avoid naming conflicts when loading with `tf.keras.models.load_model`. If renaming is not possible, pass the object in the `custom_objects` parameter of the load function.\n"
          ]
        }
      ],
      "source": [
        "model.save('model_final.model')"
      ]
    },
    {
      "cell_type": "code",
      "execution_count": 36,
      "metadata": {},
      "outputs": [
        {
          "name": "stdout",
          "output_type": "stream",
          "text": [
            "INFO: Saving models done\n"
          ]
        }
      ],
      "source": [
        "with open('tokenizer.pickle', 'wb') as handle:\n",
        "    pickle.dump(tokenizer, handle, protocol=pickle.HIGHEST_PROTOCOL)\n",
        "print(\"INFO: Saving models done\")"
      ]
    },
    {
      "cell_type": "code",
      "execution_count": 18,
      "metadata": {
        "colab": {
          "base_uri": "https://localhost:8080/"
        },
        "id": "TbYpVoq2ZD61",
        "outputId": "b05ffe6b-30ac-48f8-b31c-ee7221f9deb5"
      },
      "outputs": [
        {
          "data": {
            "text/plain": [
              "array([4.4330285e-08, 5.5475417e-04, 3.3713162e-03, 8.1147671e-01,\n",
              "       1.8421654e-01, 1.3171051e-04, 2.4896866e-04], dtype=float32)"
            ]
          },
          "execution_count": 18,
          "metadata": {},
          "output_type": "execute_result"
        }
      ],
      "source": [
        "predicted[6]"
      ]
    },
    {
      "cell_type": "markdown",
      "metadata": {
        "id": "3rDJUCLVSi2K"
      },
      "source": [
        "1 = joy\n",
        "2 = sadness\n",
        "3 = anger\n",
        "4 = fear\n",
        "5 = love\n",
        "6 = surprise"
      ]
    },
    {
      "cell_type": "code",
      "execution_count": 19,
      "metadata": {
        "id": "kfZbK4UvQfYz"
      },
      "outputs": [],
      "source": [
        "ngetes_seq = tokenizer.texts_to_sequences(['i then feel your tender touch as you enfold me with his love'])\n",
        "ngetes_padded = pad_sequences(ngetes_seq, maxlen=max_length, padding=padding_type, truncating=trunc_type)\n",
        "ngetes_padded = np.array(ngetes_padded)"
      ]
    },
    {
      "cell_type": "code",
      "execution_count": 20,
      "metadata": {
        "id": "gA37DRXDT6KJ"
      },
      "outputs": [],
      "source": [
        "p = model.predict(ngetes_padded)"
      ]
    },
    {
      "cell_type": "code",
      "execution_count": 21,
      "metadata": {
        "colab": {
          "base_uri": "https://localhost:8080/"
        },
        "id": "Utfj9rqfT-A_",
        "outputId": "88d1d046-fee0-4101-abe1-fc5d613b015f"
      },
      "outputs": [
        {
          "data": {
            "text/plain": [
              "array([[7.5453912e-14, 2.3606457e-05, 1.7429383e-07, 3.4346454e-06,\n",
              "        1.5609038e-10, 9.9997282e-01, 2.8482113e-08]], dtype=float32)"
            ]
          },
          "execution_count": 21,
          "metadata": {},
          "output_type": "execute_result"
        }
      ],
      "source": [
        "p"
      ]
    },
    {
      "cell_type": "code",
      "execution_count": null,
      "metadata": {
        "id": "lGl6ldjBUK9P"
      },
      "outputs": [],
      "source": []
    },
    {
      "cell_type": "code",
      "execution_count": 22,
      "metadata": {},
      "outputs": [],
      "source": [
        "trunc_type='post'\n",
        "padding_type='post'\n",
        "oov_tok = \"<OOV>\"\n",
        "training_size = 20000\n",
        "vocab_size = 5000\n",
        "max_length = 32\n",
        "embedding_dim = 64\n",
        "tokenizer_test = Tokenizer(num_words=vocab_size, oov_token=oov_tok)\n",
        "tokenizer_test.fit_on_texts(['i then feel your tender touch as you enfold me with his love i'])\n",
        "word_index_test = tokenizer_test.word_index\n",
        "\n",
        "\n",
        "train_seq_test = tokenizer_test.texts_to_sequences(train_sentences)\n",
        "\n",
        "train_padded_test = pad_sequences(train_seq_test, maxlen=max_length, padding=padding_type, truncating=trunc_type)\n"
      ]
    },
    {
      "cell_type": "code",
      "execution_count": 23,
      "metadata": {},
      "outputs": [
        {
          "name": "stdout",
          "output_type": "stream",
          "text": [
            "{'<OOV>': 1, 'i': 2, 'then': 3, 'feel': 4, 'your': 5, 'tender': 6, 'touch': 7, 'as': 8, 'you': 9, 'enfold': 10, 'me': 11, 'with': 12, 'his': 13, 'love': 14}\n"
          ]
        }
      ],
      "source": [
        "print(word_index_test)"
      ]
    },
    {
      "cell_type": "code",
      "execution_count": null,
      "metadata": {},
      "outputs": [],
      "source": []
    }
  ],
  "metadata": {
    "colab": {
      "name": "quotip_model.ipynb",
      "provenance": []
    },
    "interpreter": {
      "hash": "b09ec625f77bf4fd762565a912b97636504ad6ec901eb2d0f4cf5a7de23e1ee5"
    },
    "kernelspec": {
      "display_name": "Python 3.8.8 ('base')",
      "language": "python",
      "name": "python3"
    },
    "language_info": {
      "codemirror_mode": {
        "name": "ipython",
        "version": 3
      },
      "file_extension": ".py",
      "mimetype": "text/x-python",
      "name": "python",
      "nbconvert_exporter": "python",
      "pygments_lexer": "ipython3",
      "version": "3.8.8"
    }
  },
  "nbformat": 4,
  "nbformat_minor": 0
}
