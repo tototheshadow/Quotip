{
  "cells": [
    {
      "cell_type": "code",
      "execution_count": 2,
      "metadata": {
        "id": "Tv9oQGLcUQ78"
      },
      "outputs": [],
      "source": [
        "from tensorflow.keras.preprocessing.text import Tokenizer\n",
        "from tensorflow.keras.preprocessing.sequence import pad_sequences\n",
        "from tensorflow.keras.models import Sequential\n",
        "from tensorflow.keras.layers import Embedding, LSTM, Dense, Bidirectional, GlobalAveragePooling1D, Flatten\n",
        "import tensorflow as tf\n",
        "import numpy as np\n",
        "import pandas as pd"
      ]
    },
    {
      "cell_type": "code",
      "execution_count": 3,
      "metadata": {
        "id": "ZiUDJ9twT_Pe"
      },
      "outputs": [],
      "source": [
        "# path = '/content/drive/MyDrive/Capstone/'\n",
        "path = '.'"
      ]
    },
    {
      "cell_type": "code",
      "execution_count": 4,
      "metadata": {
        "id": "6V5z1HiYUTRs"
      },
      "outputs": [],
      "source": [
        "train_sentences = []\n",
        "train_labels = []\n",
        "with open(f\"{path}/dataset/train.txt\") as f:\n",
        "    for items in f:\n",
        "        item = items.split(\";\")\n",
        "        train_sentences.append(item[0])\n",
        "        train_labels.append(item[1].rstrip())\n",
        "\n",
        "test_sentences = []\n",
        "test_labels = []\n",
        "with open(f\"{path}/dataset/test.txt\") as f:\n",
        "    for items in f:\n",
        "        item = items.split(\";\")\n",
        "        test_sentences.append(item[0])\n",
        "        test_labels.append(item[1].rstrip())\n",
        "\n",
        "val_sentences = []\n",
        "val_labels = []\n",
        "with open(f\"{path}/dataset/val.txt\") as f:\n",
        "    for items in f:\n",
        "        item = items.split(\";\")\n",
        "        val_sentences.append(item[0])\n",
        "        val_labels.append(item[1].rstrip())"
      ]
    },
    {
      "cell_type": "code",
      "execution_count": 5,
      "metadata": {
        "colab": {
          "base_uri": "https://localhost:8080/"
        },
        "id": "Z8Y8zyEfUj7-",
        "outputId": "91bdff01-e98f-4fec-db03-e4ccc2d1cc75"
      },
      "outputs": [
        {
          "name": "stdout",
          "output_type": "stream",
          "text": [
            "{'anger', 'joy', 'love', 'sadness', 'fear', 'surprise'}\n"
          ]
        }
      ],
      "source": [
        "print(set(train_labels))"
      ]
    },
    {
      "cell_type": "code",
      "execution_count": 6,
      "metadata": {
        "id": "7Ro0vrGoUmyC"
      },
      "outputs": [],
      "source": [
        "trunc_type='post'\n",
        "padding_type='post'\n",
        "oov_tok = \"<OOV>\"\n",
        "training_size = 20000\n",
        "vocab_size = 5000\n",
        "max_length = 32\n",
        "embedding_dim = 64\n",
        "\n",
        "tokenizer = Tokenizer(num_words=vocab_size, oov_token=oov_tok)\n",
        "tokenizer.fit_on_texts(train_sentences)\n",
        "word_index = tokenizer.word_index\n",
        "\n",
        "\n",
        "train_seq = tokenizer.texts_to_sequences(train_sentences)\n",
        "\n",
        "train_padded = pad_sequences(train_seq, maxlen=max_length, padding=padding_type, truncating=trunc_type)"
      ]
    },
    {
      "cell_type": "code",
      "execution_count": 7,
      "metadata": {},
      "outputs": [
        {
          "name": "stdout",
          "output_type": "stream",
          "text": [
            "[  2 139   3 679   0   0   0   0   0   0   0   0   0   0   0   0   0   0\n",
            "   0   0   0   0   0   0   0   0   0   0   0   0   0   0]\n"
          ]
        }
      ],
      "source": [
        "print(train_padded[0])"
      ]
    },
    {
      "cell_type": "code",
      "execution_count": 8,
      "metadata": {
        "id": "WGqyeUxGUolj"
      },
      "outputs": [],
      "source": [
        "val_seq = tokenizer.texts_to_sequences(val_sentences)\n",
        "val_padded = pad_sequences(val_seq, maxlen=max_length, padding=padding_type, truncating=trunc_type)\n",
        "val_padded = np.array(val_padded)"
      ]
    },
    {
      "cell_type": "code",
      "execution_count": 9,
      "metadata": {
        "id": "E_7atiQOUseB"
      },
      "outputs": [],
      "source": [
        "test_seq = tokenizer.texts_to_sequences(test_sentences)\n",
        "test_padded = pad_sequences(test_seq, maxlen=max_length, padding=padding_type, truncating=trunc_type)\n",
        "test_padded = np.array(test_padded)"
      ]
    },
    {
      "cell_type": "code",
      "execution_count": 10,
      "metadata": {
        "id": "TJfCwuaZU-Re"
      },
      "outputs": [],
      "source": [
        "labels = list(train_labels)\n",
        "label_tokenizer = Tokenizer()\n",
        "label_tokenizer.fit_on_texts(labels)\n",
        "\n",
        "train_label_seq = np.array(label_tokenizer.texts_to_sequences(train_labels))\n",
        "val_label_seq = np.array(label_tokenizer.texts_to_sequences(val_labels))\n",
        "test_label_seq = np.array(label_tokenizer.texts_to_sequences(test_labels))"
      ]
    },
    {
      "cell_type": "code",
      "execution_count": 11,
      "metadata": {
        "colab": {
          "base_uri": "https://localhost:8080/"
        },
        "id": "djjKsSxYVKn9",
        "outputId": "3e12f79e-56e0-46f2-f397-07f12d797139"
      },
      "outputs": [
        {
          "name": "stdout",
          "output_type": "stream",
          "text": [
            "Model: \"sequential\"\n",
            "_________________________________________________________________\n",
            " Layer (type)                Output Shape              Param #   \n",
            "=================================================================\n",
            " embedding (Embedding)       (None, None, 64)          320000    \n",
            "                                                                 \n",
            " bidirectional (Bidirectiona  (None, 128)              66048     \n",
            " l)                                                              \n",
            "                                                                 \n",
            " dense (Dense)               (None, 64)                8256      \n",
            "                                                                 \n",
            " dense_1 (Dense)             (None, 7)                 455       \n",
            "                                                                 \n",
            "=================================================================\n",
            "Total params: 394,759\n",
            "Trainable params: 394,759\n",
            "Non-trainable params: 0\n",
            "_________________________________________________________________\n"
          ]
        }
      ],
      "source": [
        "model = tf.keras.Sequential([\n",
        "    tf.keras.layers.Embedding(input_dim=vocab_size, output_dim=embedding_dim),\n",
        "    tf.keras.layers.Bidirectional(tf.keras.layers.LSTM(embedding_dim)),\n",
        "    # tf.keras.layers.Dropout(.5),\n",
        "    tf.keras.layers.Dense(64, activation='relu'),\n",
        "    tf.keras.layers.Dense(7, activation='softmax')\n",
        "])\n",
        "model.summary()"
      ]
    },
    {
      "cell_type": "code",
      "execution_count": 12,
      "metadata": {
        "id": "GnX05yojVOPE"
      },
      "outputs": [],
      "source": [
        "onehot_train_label = np.squeeze(tf.one_hot(train_label_seq,7).numpy())\n",
        "onehot_val_label = np.squeeze(tf.one_hot(val_label_seq,7).numpy())\n",
        "onehot_test_label = np.squeeze(tf.one_hot(test_label_seq,7).numpy())"
      ]
    },
    {
      "cell_type": "code",
      "execution_count": 13,
      "metadata": {
        "colab": {
          "base_uri": "https://localhost:8080/"
        },
        "id": "zj8sAraNRMk-",
        "outputId": "8c9d709c-2b56-4353-aa76-32520d4c92cb"
      },
      "outputs": [
        {
          "data": {
            "text/plain": [
              "array([0., 0., 0., 0., 0., 1., 0.], dtype=float32)"
            ]
          },
          "execution_count": 13,
          "metadata": {},
          "output_type": "execute_result"
        }
      ],
      "source": [
        "onehot_test_label[14]"
      ]
    },
    {
      "cell_type": "code",
      "execution_count": 14,
      "metadata": {
        "id": "l2-YfhcyVQZJ"
      },
      "outputs": [],
      "source": [
        "model.compile(optimizer = 'Adam',loss = 'categorical_crossentropy',metrics = ['accuracy'])"
      ]
    },
    {
      "cell_type": "code",
      "execution_count": 15,
      "metadata": {
        "colab": {
          "base_uri": "https://localhost:8080/"
        },
        "id": "Ph2OG-MoVSEt",
        "outputId": "fa3b2e9c-e213-4f96-b507-ff6559cb59fd"
      },
      "outputs": [
        {
          "name": "stdout",
          "output_type": "stream",
          "text": [
            "Epoch 1/10\n",
            "500/500 [==============================] - 24s 35ms/step - loss: 1.2194 - accuracy: 0.5209 - val_loss: 0.6703 - val_accuracy: 0.7350\n",
            "Epoch 2/10\n",
            "500/500 [==============================] - 16s 32ms/step - loss: 0.4219 - accuracy: 0.8478 - val_loss: 0.3340 - val_accuracy: 0.8880\n",
            "Epoch 3/10\n",
            "500/500 [==============================] - 16s 32ms/step - loss: 0.1940 - accuracy: 0.9323 - val_loss: 0.3193 - val_accuracy: 0.8945\n",
            "Epoch 4/10\n",
            "500/500 [==============================] - 16s 32ms/step - loss: 0.1368 - accuracy: 0.9517 - val_loss: 0.3064 - val_accuracy: 0.8985\n",
            "Epoch 5/10\n",
            "500/500 [==============================] - 16s 32ms/step - loss: 0.0969 - accuracy: 0.9658 - val_loss: 0.3732 - val_accuracy: 0.8935\n",
            "Epoch 6/10\n",
            "500/500 [==============================] - 16s 32ms/step - loss: 0.0863 - accuracy: 0.9685 - val_loss: 0.3854 - val_accuracy: 0.8925\n",
            "Epoch 7/10\n",
            "500/500 [==============================] - 16s 32ms/step - loss: 0.0700 - accuracy: 0.9758 - val_loss: 0.3817 - val_accuracy: 0.9035\n",
            "Epoch 8/10\n",
            "500/500 [==============================] - 16s 33ms/step - loss: 0.0622 - accuracy: 0.9777 - val_loss: 0.4385 - val_accuracy: 0.8965\n",
            "Epoch 9/10\n",
            "500/500 [==============================] - 18s 37ms/step - loss: 0.0512 - accuracy: 0.9806 - val_loss: 0.4465 - val_accuracy: 0.8915\n",
            "Epoch 10/10\n",
            "500/500 [==============================] - 18s 36ms/step - loss: 0.0500 - accuracy: 0.9831 - val_loss: 0.4210 - val_accuracy: 0.8935\n"
          ]
        }
      ],
      "source": [
        "num_epochs = 10\n",
        "\n",
        "history = model.fit(train_padded, onehot_train_label, epochs=num_epochs, validation_data=(val_padded, onehot_val_label), verbose=1)"
      ]
    },
    {
      "cell_type": "code",
      "execution_count": 16,
      "metadata": {
        "colab": {
          "base_uri": "https://localhost:8080/",
          "height": 545
        },
        "id": "j9YsajxzVTw1",
        "outputId": "ed6adc17-59a6-42e9-f8b8-a294612e102f"
      },
      "outputs": [
        {
          "data": {
            "image/png": "[encoded data removed]",
            "text/plain": [
              "<Figure size 432x288 with 1 Axes>"
            ]
          },
          "metadata": {
            "needs_background": "light"
          },
          "output_type": "display_data"
        },
        {
          "data": {
            "image/png": "[encoded data removed]",
            "text/plain": [
              "<Figure size 432x288 with 1 Axes>"
            ]
          },
          "metadata": {
            "needs_background": "light"
          },
          "output_type": "display_data"
        }
      ],
      "source": [
        "import matplotlib.pyplot as plt\n",
        "\n",
        "# Plot the model results\n",
        "acc = history.history['accuracy']\n",
        "val_acc = history.history['val_accuracy']\n",
        "loss = history.history['loss']\n",
        "val_loss = history.history['val_loss']\n",
        "\n",
        "epochs = range(len(acc))\n",
        "\n",
        "plt.plot(epochs, acc, 'r', label='Training accuracy')\n",
        "plt.plot(epochs, val_acc, 'b', label='Validation accuracy')\n",
        "plt.title('Training and validation accuracy')\n",
        "\n",
        "plt.figure()\n",
        "\n",
        "plt.plot(epochs, loss, 'r', label='Training Loss')\n",
        "plt.plot(epochs, val_loss, 'b', label='Validation Loss')\n",
        "plt.title('Training and validation loss')\n",
        "plt.legend()\n",
        "\n",
        "plt.show()"
      ]
    },
    {
      "cell_type": "code",
      "execution_count": 17,
      "metadata": {
        "colab": {
          "base_uri": "https://localhost:8080/",
          "height": 545
        },
        "id": "ItF71pCqbVdC",
        "outputId": "edc29bb9-ec58-40fc-c23b-e7764554b006"
      },
      "outputs": [
        {
          "data": {
            "image/png": "[encoded data removed]",
            "text/plain": [
              "<Figure size 432x288 with 1 Axes>"
            ]
          },
          "metadata": {
            "needs_background": "light"
          },
          "output_type": "display_data"
        },
        {
          "data": {
            "image/png": "[encoded data removed]",
            "text/plain": [
              "<Figure size 432x288 with 1 Axes>"
            ]
          },
          "metadata": {
            "needs_background": "light"
          },
          "output_type": "display_data"
        }
      ],
      "source": [
        "acc = history.history['accuracy']\n",
        "val_acc = history.history['val_accuracy']\n",
        "loss = history.history['loss']\n",
        "val_loss = history.history['val_loss']\n",
        "\n",
        "epochs = range(len(acc))\n",
        "\n",
        "plt.plot(epochs, acc, 'r', label='Training accuracy')\n",
        "plt.plot(epochs, val_acc, 'b', label='Validation accuracy')\n",
        "plt.title('Training and validation accuracy')\n",
        "\n",
        "plt.figure()\n",
        "\n",
        "plt.plot(epochs, loss, 'r', label='Training Loss')\n",
        "plt.plot(epochs, val_loss, 'b', label='Validation Loss')\n",
        "plt.title('Training and validation loss')\n",
        "plt.legend()\n",
        "\n",
        "plt.show()"
      ]
    },
    {
      "cell_type": "code",
      "execution_count": 18,
      "metadata": {
        "colab": {
          "base_uri": "https://localhost:8080/",
          "height": 545
        },
        "id": "SKKxvx7ScDR8",
        "outputId": "0a9b2b65-3e21-4afa-c248-e1831e125009"
      },
      "outputs": [
        {
          "data": {
            "image/png": "[encoded data removed]",
            "text/plain": [
              "<Figure size 432x288 with 1 Axes>"
            ]
          },
          "metadata": {
            "needs_background": "light"
          },
          "output_type": "display_data"
        },
        {
          "data": {
            "image/png": "[encoded data removed]",
            "text/plain": [
              "<Figure size 432x288 with 1 Axes>"
            ]
          },
          "metadata": {
            "needs_background": "light"
          },
          "output_type": "display_data"
        }
      ],
      "source": [
        "acc = history.history['accuracy']\n",
        "val_acc = history.history['val_accuracy']\n",
        "loss = history.history['loss']\n",
        "val_loss = history.history['val_loss']\n",
        "\n",
        "epochs = range(len(acc))\n",
        "\n",
        "plt.plot(epochs, acc, 'r', label='Training accuracy')\n",
        "plt.plot(epochs, val_acc, 'b', label='Validation accuracy')\n",
        "plt.title('Training and validation accuracy')\n",
        "\n",
        "plt.figure()\n",
        "\n",
        "plt.plot(epochs, loss, 'r', label='Training Loss')\n",
        "plt.plot(epochs, val_loss, 'b', label='Validation Loss')\n",
        "plt.title('Training and validation loss')\n",
        "plt.legend()\n",
        "\n",
        "plt.show()"
      ]
    },
    {
      "cell_type": "code",
      "execution_count": 19,
      "metadata": {
        "colab": {
          "base_uri": "https://localhost:8080/",
          "height": 235
        },
        "id": "zrbC-oFykcez",
        "outputId": "96bf7c33-a38a-46fb-8823-fc8323e51b03"
      },
      "outputs": [
        {
          "data": {
            "image/png": "[encoded data removed]",
            "text/plain": [
              "<Figure size 432x288 with 1 Axes>"
            ]
          },
          "metadata": {
            "needs_background": "light"
          },
          "output_type": "display_data"
        },
        {
          "data": {
            "image/png": "[encoded data removed]",
            "text/plain": [
              "<Figure size 432x288 with 1 Axes>"
            ]
          },
          "metadata": {
            "needs_background": "light"
          },
          "output_type": "display_data"
        }
      ],
      "source": [
        "acc = history.history['accuracy']\n",
        "val_acc = history.history['val_accuracy']\n",
        "loss = history.history['loss']\n",
        "val_loss = history.history['val_loss']\n",
        "\n",
        "epochs = range(len(acc))\n",
        "\n",
        "plt.plot(epochs, acc, 'r', label='Training accuracy')\n",
        "plt.plot(epochs, val_acc, 'b', label='Validation accuracy')\n",
        "plt.title('Training and validation accuracy')\n",
        "\n",
        "plt.figure()\n",
        "\n",
        "plt.plot(epochs, loss, 'r', label='Training Loss')\n",
        "plt.plot(epochs, val_loss, 'b', label='Validation Loss')\n",
        "plt.title('Training and validation loss')\n",
        "plt.legend()\n",
        "\n",
        "plt.show()"
      ]
    },
    {
      "cell_type": "code",
      "execution_count": 20,
      "metadata": {
        "id": "DtaP3IV_XXOq"
      },
      "outputs": [],
      "source": [
        "def evaluate_preds(y_true, y_preds):\n",
        "    \"\"\"\n",
        "    Performs evaluation comparison on y_true labels vs. y_pred labels\n",
        "    on a classification.\n",
        "    \"\"\"\n",
        "    accuracy = accuracy_score(y_true, y_preds)\n",
        "    precision = precision_score(y_true, y_preds, average='micro')\n",
        "    recall = recall_score(y_true, y_preds, average='micro')\n",
        "    f1 = f1_score(y_true, y_preds, average='micro')\n",
        "    metric_dict = {\"accuracy\": round(accuracy, 2),\n",
        "                   \"precision\": round(precision, 2),\n",
        "                   \"recall\": round(recall, 2),\n",
        "                   \"f1\": round(f1, 2)}\n",
        "    print(f\"Acc: {accuracy * 100:.2f}%\")\n",
        "    print(f\"Precision: {precision:.2f}\")\n",
        "    print(f\"Recall: {recall:.2f}\")\n",
        "    print(f\"F1 score: {f1:.2f}\")\n",
        "    \n",
        "    return metric_dict"
      ]
    },
    {
      "cell_type": "code",
      "execution_count": 21,
      "metadata": {
        "colab": {
          "base_uri": "https://localhost:8080/"
        },
        "id": "ATzlVYuHYM5Y",
        "outputId": "7682889b-e9ab-4d4c-a785-2c3a6af48aa8"
      },
      "outputs": [
        {
          "name": "stdout",
          "output_type": "stream",
          "text": [
            "Acc: 88.70%\n",
            "Precision: 0.89\n",
            "Recall: 0.89\n",
            "F1 score: 0.89\n"
          ]
        },
        {
          "data": {
            "text/plain": [
              "{'accuracy': 0.89, 'precision': 0.89, 'recall': 0.89, 'f1': 0.89}"
            ]
          },
          "execution_count": 21,
          "metadata": {},
          "output_type": "execute_result"
        }
      ],
      "source": [
        "# Now we make predictions using the test data to see how the model performs\n",
        "from sklearn.metrics import accuracy_score, precision_score, recall_score, f1_score, confusion_matrix, classification_report\n",
        "predicted = model.predict(test_padded)\n",
        "evaluate_preds(np.argmax(onehot_test_label, axis=1), np.argmax(predicted, axis=1))"
      ]
    },
    {
      "cell_type": "code",
      "execution_count": 22,
      "metadata": {
        "colab": {
          "base_uri": "https://localhost:8080/"
        },
        "id": "TbYpVoq2ZD61",
        "outputId": "b05ffe6b-30ac-48f8-b31c-ee7221f9deb5"
      },
      "outputs": [
        {
          "data": {
            "text/plain": [
              "array([1.0557524e-06, 5.1669036e-03, 2.3569044e-02, 8.0032140e-01,\n",
              "       1.6991058e-01, 5.8535871e-04, 4.4569277e-04], dtype=float32)"
            ]
          },
          "execution_count": 22,
          "metadata": {},
          "output_type": "execute_result"
        }
      ],
      "source": [
        "predicted[6]"
      ]
    },
    {
      "cell_type": "markdown",
      "metadata": {
        "id": "3rDJUCLVSi2K"
      },
      "source": [
        "1 = joy\n",
        "2 = sadness\n",
        "3 = anger\n",
        "4 = fear\n",
        "5 = love\n",
        "6 = surprise"
      ]
    },
    {
      "cell_type": "code",
      "execution_count": 23,
      "metadata": {
        "id": "kfZbK4UvQfYz"
      },
      "outputs": [],
      "source": [
        "ngetes_seq = tokenizer.texts_to_sequences(['i then feel your tender touch as you enfold me with his love'])\n",
        "ngetes_padded = pad_sequences(ngetes_seq, maxlen=max_length, padding=padding_type, truncating=trunc_type)\n",
        "ngetes_padded = np.array(ngetes_padded)"
      ]
    },
    {
      "cell_type": "code",
      "execution_count": 24,
      "metadata": {
        "id": "gA37DRXDT6KJ"
      },
      "outputs": [],
      "source": [
        "p = model.predict(ngetes_padded)"
      ]
    },
    {
      "cell_type": "code",
      "execution_count": 25,
      "metadata": {
        "colab": {
          "base_uri": "https://localhost:8080/"
        },
        "id": "Utfj9rqfT-A_",
        "outputId": "88d1d046-fee0-4101-abe1-fc5d613b015f"
      },
      "outputs": [
        {
          "data": {
            "text/plain": [
              "array([[5.7993527e-10, 2.0802754e-03, 2.5843282e-04, 1.4307262e-05,\n",
              "        1.1507171e-06, 9.9710304e-01, 5.4271577e-04]], dtype=float32)"
            ]
          },
          "execution_count": 25,
          "metadata": {},
          "output_type": "execute_result"
        }
      ],
      "source": [
        "p"
      ]
    },
    {
      "cell_type": "code",
      "execution_count": null,
      "metadata": {
        "id": "lGl6ldjBUK9P"
      },
      "outputs": [],
      "source": []
    },
    {
      "cell_type": "code",
      "execution_count": 26,
      "metadata": {},
      "outputs": [],
      "source": [
        "trunc_type='post'\n",
        "padding_type='post'\n",
        "oov_tok = \"<OOV>\"\n",
        "training_size = 20000\n",
        "vocab_size = 5000\n",
        "max_length = 32\n",
        "embedding_dim = 64\n",
        "tokenizer_test = Tokenizer(num_words=vocab_size, oov_token=oov_tok)\n",
        "tokenizer_test.fit_on_texts(['i then feel your tender touch as you enfold me with his love i'])\n",
        "word_index_test = tokenizer_test.word_index\n",
        "\n",
        "\n",
        "train_seq_test = tokenizer_test.texts_to_sequences(train_sentences)\n",
        "\n",
        "train_padded_test = pad_sequences(train_seq_test, maxlen=max_length, padding=padding_type, truncating=trunc_type)\n"
      ]
    },
    {
      "cell_type": "code",
      "execution_count": 27,
      "metadata": {},
      "outputs": [
        {
          "name": "stdout",
          "output_type": "stream",
          "text": [
            "{'<OOV>': 1, 'i': 2, 'then': 3, 'feel': 4, 'your': 5, 'tender': 6, 'touch': 7, 'as': 8, 'you': 9, 'enfold': 10, 'me': 11, 'with': 12, 'his': 13, 'love': 14}\n"
          ]
        }
      ],
      "source": [
        "print(word_index_test)"
      ]
    },
    {
      "cell_type": "code",
      "execution_count": null,
      "metadata": {},
      "outputs": [],
      "source": []
    }
  ],
  "metadata": {
    "colab": {
      "name": "quotip_model.ipynb",
      "provenance": []
    },
    "interpreter": {
      "hash": "b09ec625f77bf4fd762565a912b97636504ad6ec901eb2d0f4cf5a7de23e1ee5"
    },
    "kernelspec": {
      "display_name": "Python 3.8.8 ('base')",
      "language": "python",
      "name": "python3"
    },
    "language_info": {
      "codemirror_mode": {
        "name": "ipython",
        "version": 3
      },
      "file_extension": ".py",
      "mimetype": "text/x-python",
      "name": "python",
      "nbconvert_exporter": "python",
      "pygments_lexer": "ipython3",
      "version": "3.8.8"
    }
  },
  "nbformat": 4,
  "nbformat_minor": 0
}
